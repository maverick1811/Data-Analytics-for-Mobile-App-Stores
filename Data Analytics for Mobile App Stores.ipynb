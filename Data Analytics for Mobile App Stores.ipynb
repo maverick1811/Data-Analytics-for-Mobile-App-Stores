{
 "cells": [
  {
   "cell_type": "markdown",
   "metadata": {},
   "source": [
    "## Data Analytics for Mobile App Stores\n",
    "\n",
    "This project is based on the guided project of the course \"Python for Data Science: Fundamentals\" on dataquest.io.\n",
    "This is my first python project, so I'm doing it mainly to practice and master the fundamentals of python.\n",
    "\n",
    "Here the dataset used is the Google Play Store data from a few years ago.\n",
    "\n",
    "The aim of the projects are:\n",
    "\n",
    "1. To open, read and handle datasets.\n",
    "2. To clean the data set.\n",
    "3. To understand the structure of datasets\n",
    "4. To become familiar with the basic tools of python such as the various data types, loops, methods and functions\n",
    "4. To create useful (but basic) statistics based on the data provided"
   ]
  },
  {
   "cell_type": "markdown",
   "metadata": {},
   "source": [
    "Reminders: \n",
    "\n",
    "1. In the 3rd cell, del() should only be run once as it deletes an error row."
   ]
  },
  {
   "cell_type": "code",
   "execution_count": 1,
   "metadata": {
    "collapsed": false,
    "jupyter": {
     "outputs_hidden": false
    }
   },
   "outputs": [],
   "source": [
    "# Importing and reading the dataset\n",
    "\n",
    "from csv import reader\n",
    "\n",
    "# Google Play Store Dataset\n",
    "\n",
    "opened_file = open('googleplaystore.csv', encoding=\"utf8\")\n",
    "read_file = reader(opened_file)\n",
    "play_store = list(read_file)\n",
    "\n",
    "# Here, we partition our dataset into the column headers and the data points\n",
    "\n",
    "play_store_header=play_store[0]\n",
    "play_store = play_store[1:]    "
   ]
  },
  {
   "cell_type": "code",
   "execution_count": 2,
   "metadata": {
    "collapsed": false,
    "jupyter": {
     "outputs_hidden": false
    }
   },
   "outputs": [
    {
     "name": "stdout",
     "output_type": "stream",
     "text": [
      "['Photo Editor & Candy Camera & Grid & ScrapBook', 'ART_AND_DESIGN', '4.1', '159', '19M', '10,000+', 'Free', '0', 'Everyone', 'Art & Design', 'January 7, 2018', '1.0.0', '4.0.3 and up']\n",
      "\n",
      "\n",
      "['Coloring book moana', 'ART_AND_DESIGN', '3.9', '967', '14M', '500,000+', 'Free', '0', 'Everyone', 'Art & Design;Pretend Play', 'January 15, 2018', '2.0.0', '4.0.3 and up']\n",
      "\n",
      "\n",
      "['U Launcher Lite – FREE Live Cool Themes, Hide Apps', 'ART_AND_DESIGN', '4.7', '87510', '8.7M', '5,000,000+', 'Free', '0', 'Everyone', 'Art & Design', 'August 1, 2018', '1.2.4', '4.0.3 and up']\n",
      "\n",
      "\n",
      "Number of rows: 10841\n",
      "Number of columns: 13\n",
      "None\n"
     ]
    }
   ],
   "source": [
    "# To have a look at and understand the dataset\n",
    "# To know the number of rows and columns in our dataset\n",
    "\n",
    "def explore_data(dataset, start, end, rows_and_columns=False):\n",
    "    dataset_slice = dataset[start:end]    \n",
    "    for row in dataset_slice:\n",
    "        print(row)\n",
    "        print(\"\\n\")\n",
    "\n",
    "    if rows_and_columns:\n",
    "        print('Number of rows:', len(dataset))\n",
    "        print('Number of columns:', len(dataset[0]))\n",
    "        \n",
    "print(explore_data(play_store, 0,3, True))"
   ]
  },
  {
   "cell_type": "code",
   "execution_count": 3,
   "metadata": {
    "collapsed": false,
    "jupyter": {
     "outputs_hidden": false
    }
   },
   "outputs": [
    {
     "name": "stdout",
     "output_type": "stream",
     "text": [
      "['osmino Wi-Fi: free WiFi', 'TOOLS', '4.2', '134203', '4.1M', '10,000,000+', 'Free', '0', 'Everyone', 'Tools', 'August 7, 2018', '6.06.14', '4.4 and up']\n"
     ]
    }
   ],
   "source": [
    "#Dealing with Row Error\n",
    "\n",
    "#print(play_store[10472])\n",
    "#print('\\n')\n",
    "\n",
    "#play_store_header_len= len(play_store_header)\n",
    "#len_10472=len(play_store[10472])\n",
    "#if len(play_store_header) != len(play_store[10472]):\n",
    "    #print(\"not equal, error row\")\n",
    "    \n",
    "#print('\\n')\n",
    "    \n",
    "del play_store[10472]\n",
    "print(play_store[10472])"
   ]
  },
  {
   "cell_type": "code",
   "execution_count": 4,
   "metadata": {
    "collapsed": false,
    "jupyter": {
     "outputs_hidden": false
    }
   },
   "outputs": [
    {
     "name": "stdout",
     "output_type": "stream",
     "text": [
      "Number of duplicate apps: 1181\n",
      "\n",
      "\n",
      "Examples of duplicate apps:\n",
      " ['Quick PDF Scanner + OCR FREE', 'Box', 'Google My Business', 'ZOOM Cloud Meetings', 'join.me - Simple Meetings', 'Box', 'Zenefits', 'Google Ads', 'Google My Business', 'Slack']\n",
      "\n",
      "\n",
      "['Quick PDF Scanner + OCR FREE', 'BUSINESS', '4.2', '80805', 'Varies with device', '5,000,000+', 'Free', '0', 'Everyone', 'Business', 'February 26, 2018', 'Varies with device', '4.0.3 and up']\n",
      "['Quick PDF Scanner + OCR FREE', 'BUSINESS', '4.2', '80805', 'Varies with device', '5,000,000+', 'Free', '0', 'Everyone', 'Business', 'February 26, 2018', 'Varies with device', '4.0.3 and up']\n",
      "['Quick PDF Scanner + OCR FREE', 'BUSINESS', '4.2', '80804', 'Varies with device', '5,000,000+', 'Free', '0', 'Everyone', 'Business', 'February 26, 2018', 'Varies with device', '4.0.3 and up']\n"
     ]
    }
   ],
   "source": [
    "#Checking for Duplicate Apps\n",
    "\n",
    "duplicate_apps=[]\n",
    "unique_apps=[]\n",
    "\n",
    "for app in play_store:\n",
    "    name = app[0]\n",
    "    if name in unique_apps:\n",
    "        duplicate_apps.append(name)\n",
    "    else:\n",
    "        unique_apps.append(name)\n",
    "        \n",
    "print('Number of duplicate apps:', len(duplicate_apps))\n",
    "print('\\n')\n",
    "print('Examples of duplicate apps:''\\n', duplicate_apps[:10])\n",
    "\n",
    "#There are many duplicate entries of the same app.\n",
    "\n",
    "print('\\n')\n",
    "\n",
    "for app in play_store:\n",
    "    name = app[0]\n",
    "    if name == \"Quick PDF Scanner + OCR FREE\":\n",
    "        print(app)\n",
    "        \n",
    "# Amongst duplicate entries, the number of reviews is different.\n",
    "# This indicates that the entries were taken at different times.\n",
    "# Hence, it would be useful to keep the most recent entry.\n",
    "# The most recent entry has the most number of reviews."
   ]
  },
  {
   "cell_type": "code",
   "execution_count": 5,
   "metadata": {
    "collapsed": false,
    "jupyter": {
     "outputs_hidden": false
    }
   },
   "outputs": [
    {
     "name": "stdout",
     "output_type": "stream",
     "text": [
      "Expected length: 9659\n",
      "\n",
      "\n",
      "Actual length: 9659\n",
      "\n",
      "\n"
     ]
    }
   ],
   "source": [
    "#Expected length of data after removing duplicates.\n",
    "\n",
    "print(\"Expected length:\", len(play_store)-1181)\n",
    "print('\\n')\n",
    "\n",
    "#To detect the apps with most number of reviews to be kept as originals\n",
    "\n",
    "reviews_max={}\n",
    "        \n",
    "for app in play_store:\n",
    "    name = app[0]\n",
    "    n_reviews = float(app[3])\n",
    "    if name in reviews_max and reviews_max[name]<n_reviews:\n",
    "        reviews_max[name]=n_reviews\n",
    "    if name not in reviews_max:\n",
    "        reviews_max[name]=n_reviews\n",
    "        \n",
    "print(\"Actual length:\", len(reviews_max))\n",
    "print('\\n')\n"
   ]
  },
  {
   "cell_type": "code",
   "execution_count": 6,
   "metadata": {
    "collapsed": false,
    "jupyter": {
     "outputs_hidden": false
    }
   },
   "outputs": [
    {
     "name": "stdout",
     "output_type": "stream",
     "text": [
      "Removal of duplicates is successful\n"
     ]
    }
   ],
   "source": [
    "# Removal of Duplicates \n",
    "\n",
    "play_store_clean=[]\n",
    "already_added=[]\n",
    "\n",
    "for app in play_store:\n",
    "    name = app[0]\n",
    "    n_reviews = float(app[3])\n",
    "    if n_reviews == reviews_max[name] and name not in already_added:\n",
    "        play_store_clean.append(app)\n",
    "        already_added.append(name)\n",
    "        \n",
    "#explore_data(play_store_clean, 0,5)\n",
    "\n",
    "if len(play_store_clean) == len(reviews_max):\n",
    "    print(\"Removal of duplicates is successful\")"
   ]
  },
  {
   "cell_type": "code",
   "execution_count": 7,
   "metadata": {
    "collapsed": false,
    "jupyter": {
     "outputs_hidden": false
    }
   },
   "outputs": [
    {
     "name": "stdout",
     "output_type": "stream",
     "text": [
      "Number of English apps: 9614\n"
     ]
    }
   ],
   "source": [
    "# Function to check if a string is in English\n",
    "\n",
    "def check_eng(string):\n",
    "    non_ascii = 0\n",
    "    for char in string:\n",
    "        if ord(char)>127:\n",
    "          non_ascii += 1\n",
    "        \n",
    "    if non_ascii>3:\n",
    "        return False\n",
    "    else:\n",
    "        return True\n",
    "        \n",
    "# Checking if the function works\n",
    "\n",
    "#print(check_eng('Instagram'))\n",
    "#print(check_eng('爱奇艺PPS -《欢乐颂2》电视剧热播'))\n",
    "#print(check_eng('Docs To Go™ Free Office Suite'))\n",
    "#print(check_eng('Instachat 😜'))\n",
    "\n",
    "# Removing Non-English apps from Play Store Data\n",
    "\n",
    "play_sce=[] # play store cleaned, english\n",
    "\n",
    "for app in play_store_clean:\n",
    "    name = app[0]\n",
    "    if check_eng(name):\n",
    "        play_sce.append(app)\n",
    "        \n",
    "#print(play_sce[:5])\n",
    "print(\"Number of English apps:\", len(play_sce))"
   ]
  },
  {
   "cell_type": "code",
   "execution_count": 8,
   "metadata": {
    "collapsed": false,
    "jupyter": {
     "outputs_hidden": false
    }
   },
   "outputs": [
    {
     "name": "stdout",
     "output_type": "stream",
     "text": [
      "Number of free English apps: 8864\n"
     ]
    }
   ],
   "source": [
    "# Isolating the free apps\n",
    "\n",
    "play_scef = [] # play store cleaned, english, free\n",
    "\n",
    "for app in play_sce:\n",
    "    price = app[7]\n",
    "    if price == '0':\n",
    "        play_scef.append(app)\n",
    "\n",
    "print(\"Number of free English apps:\", len(play_scef))"
   ]
  },
  {
   "cell_type": "code",
   "execution_count": 9,
   "metadata": {
    "collapsed": false,
    "jupyter": {
     "outputs_hidden": false
    }
   },
   "outputs": [
    {
     "name": "stdout",
     "output_type": "stream",
     "text": [
      "This is the dictionry of genres:\n",
      "\n",
      "\n",
      "Art & Design : 53\n",
      "Art & Design;Creativity : 6\n",
      "Auto & Vehicles : 82\n",
      "Beauty : 53\n",
      "Books & Reference : 190\n",
      "Business : 407\n",
      "Comics : 54\n",
      "Comics;Creativity : 1\n",
      "Communication : 287\n",
      "Dating : 165\n",
      "Education : 474\n",
      "Education;Creativity : 4\n",
      "Education;Education : 30\n",
      "Education;Pretend Play : 5\n",
      "Education;Brain Games : 3\n",
      "Entertainment : 538\n",
      "Entertainment;Brain Games : 7\n",
      "Entertainment;Creativity : 3\n",
      "Entertainment;Music & Video : 15\n",
      "Events : 63\n",
      "Finance : 328\n",
      "Food & Drink : 110\n",
      "Health & Fitness : 273\n",
      "House & Home : 73\n",
      "Libraries & Demo : 83\n",
      "Lifestyle : 345\n",
      "Lifestyle;Pretend Play : 1\n",
      "Card : 40\n",
      "Arcade : 164\n",
      "Puzzle : 100\n",
      "Racing : 88\n",
      "Sports : 307\n",
      "Casual : 156\n",
      "Simulation : 181\n",
      "Adventure : 60\n",
      "Trivia : 37\n",
      "Action : 275\n",
      "Word : 23\n",
      "Role Playing : 83\n",
      "Strategy : 81\n",
      "Board : 34\n",
      "Music : 18\n",
      "Action;Action & Adventure : 9\n",
      "Casual;Brain Games : 12\n",
      "Educational;Creativity : 3\n",
      "Puzzle;Brain Games : 15\n",
      "Educational;Education : 35\n",
      "Casual;Pretend Play : 21\n",
      "Educational;Brain Games : 6\n",
      "Art & Design;Pretend Play : 1\n",
      "Educational;Pretend Play : 8\n",
      "Entertainment;Education : 1\n",
      "Casual;Education : 2\n",
      "Casual;Creativity : 6\n",
      "Casual;Action & Adventure : 12\n",
      "Music;Music & Video : 2\n",
      "Arcade;Pretend Play : 1\n",
      "Adventure;Action & Adventure : 3\n",
      "Role Playing;Action & Adventure : 3\n",
      "Simulation;Pretend Play : 2\n",
      "Puzzle;Creativity : 2\n",
      "Simulation;Action & Adventure : 7\n",
      "Racing;Action & Adventure : 15\n",
      "Sports;Action & Adventure : 2\n",
      "Educational;Action & Adventure : 3\n",
      "Arcade;Action & Adventure : 11\n",
      "Entertainment;Action & Adventure : 3\n",
      "Art & Design;Action & Adventure : 1\n",
      "Puzzle;Action & Adventure : 3\n",
      "Education;Action & Adventure : 3\n",
      "Strategy;Action & Adventure : 1\n",
      "Music & Audio;Music & Video : 1\n",
      "Health & Fitness;Education : 1\n",
      "Board;Action & Adventure : 2\n",
      "Board;Brain Games : 7\n",
      "Casual;Music & Video : 1\n",
      "Education;Music & Video : 3\n",
      "Role Playing;Pretend Play : 4\n",
      "Entertainment;Pretend Play : 2\n",
      "Medical : 313\n",
      "Social : 236\n",
      "Shopping : 199\n",
      "Photography : 261\n",
      "Travel & Local : 206\n",
      "Travel & Local;Action & Adventure : 1\n",
      "Tools : 749\n",
      "Tools;Education : 1\n",
      "Personalization : 294\n",
      "Productivity : 345\n",
      "Parenting : 44\n",
      "Parenting;Music & Video : 6\n",
      "Parenting;Education : 7\n",
      "Parenting;Brain Games : 1\n",
      "Weather : 71\n",
      "Video Players & Editors : 157\n",
      "Video Players & Editors;Music & Video : 2\n",
      "Video Players & Editors;Creativity : 1\n",
      "News & Magazines : 248\n",
      "Maps & Navigation : 124\n",
      "Health & Fitness;Action & Adventure : 1\n",
      "Educational : 33\n",
      "Casino : 38\n",
      "Trivia;Education : 1\n",
      "Lifestyle;Education : 1\n",
      "Card;Action & Adventure : 1\n",
      "Books & Reference;Education : 1\n",
      "Simulation;Education : 1\n",
      "Puzzle;Education : 1\n",
      "Adventure;Education : 1\n",
      "Role Playing;Brain Games : 1\n",
      "Strategy;Education : 1\n",
      "Racing;Pretend Play : 1\n",
      "Communication;Creativity : 1\n",
      "Strategy;Creativity : 1\n"
     ]
    }
   ],
   "source": [
    "# To create a frequency table for genres\n",
    "\n",
    "genre_freq={}\n",
    "\n",
    "for app in play_scef:\n",
    "    genre = app[9]\n",
    "    if genre in genre_freq:\n",
    "        genre_freq[genre]+=1\n",
    "    elif genre not in genre_freq:\n",
    "        genre_freq[genre] = 1\n",
    "        \n",
    "# To understand how the frequency table of genres looks\n",
    "    \n",
    "print(\"This is the dictionry of genres:\"\"\\n\\n\")\n",
    "\n",
    "for key in genre_freq:\n",
    "    print(key,\":\",genre_freq[key])"
   ]
  },
  {
   "cell_type": "code",
   "execution_count": 10,
   "metadata": {
    "collapsed": false,
    "jupyter": {
     "outputs_hidden": false
    }
   },
   "outputs": [
    {
     "name": "stdout",
     "output_type": "stream",
     "text": [
      "FAMILY : 18.907942238267147\n",
      "GAME : 9.724729241877256\n",
      "TOOLS : 8.461191335740072\n",
      "BUSINESS : 4.591606498194946\n",
      "LIFESTYLE : 3.9034296028880866\n",
      "PRODUCTIVITY : 3.892148014440433\n",
      "FINANCE : 3.7003610108303246\n",
      "MEDICAL : 3.531137184115524\n",
      "SPORTS : 3.395758122743682\n",
      "PERSONALIZATION : 3.3167870036101084\n",
      "COMMUNICATION : 3.2378158844765346\n",
      "HEALTH_AND_FITNESS : 3.0798736462093865\n",
      "PHOTOGRAPHY : 2.944494584837545\n",
      "NEWS_AND_MAGAZINES : 2.7978339350180503\n",
      "SOCIAL : 2.6624548736462095\n",
      "TRAVEL_AND_LOCAL : 2.33528880866426\n",
      "SHOPPING : 2.2450361010830324\n",
      "BOOKS_AND_REFERENCE : 2.1435018050541514\n",
      "DATING : 1.861462093862816\n",
      "VIDEO_PLAYERS : 1.7937725631768955\n",
      "MAPS_AND_NAVIGATION : 1.3989169675090252\n",
      "FOOD_AND_DRINK : 1.2409747292418771\n",
      "EDUCATION : 1.1620036101083033\n",
      "ENTERTAINMENT : 0.9589350180505415\n",
      "LIBRARIES_AND_DEMO : 0.9363718411552346\n",
      "AUTO_AND_VEHICLES : 0.9250902527075812\n",
      "HOUSE_AND_HOME : 0.8235559566787004\n",
      "WEATHER : 0.8009927797833934\n",
      "EVENTS : 0.7107400722021661\n",
      "PARENTING : 0.6543321299638989\n",
      "ART_AND_DESIGN : 0.6430505415162455\n",
      "COMICS : 0.6204873646209386\n",
      "BEAUTY : 0.5979241877256317\n",
      "None\n"
     ]
    }
   ],
   "source": [
    "# To output the percentage of apps in each header column of interest (for example, categories, genres, etc.,)\n",
    "\n",
    "def freq_table(dataset, index):\n",
    "    freq_table={}\n",
    "    total=0\n",
    "    \n",
    "    for row in dataset:\n",
    "        total+=1\n",
    "        value = row[index]\n",
    "        if value in freq_table:\n",
    "            freq_table[value]+=1\n",
    "        elif value not in freq_table:\n",
    "            freq_table[value]=1\n",
    "            \n",
    "    percent_table={}\n",
    "    \n",
    "    for key in freq_table:\n",
    "        percentage = (freq_table[key]/total)*100\n",
    "        percent_table[key]=percentage\n",
    "        \n",
    "    return percent_table\n",
    "      \n",
    "#print(freq_table(play_scef, 9))\n",
    "\n",
    "# To print out the percentage of apps in each category of the Play Store in descending order\n",
    "\n",
    "def display_table(dataset, index):\n",
    "    table = freq_table(dataset, index)\n",
    "    table_display = []\n",
    "    for key in table:\n",
    "        key_val_as_tuple = (table[key], key)\n",
    "        table_display.append(key_val_as_tuple)\n",
    "\n",
    "    table_sorted = sorted(table_display, reverse = True)\n",
    "    for entry in table_sorted:\n",
    "        print(entry[1], ':', entry[0])\n",
    "        \n",
    "print(display_table(play_scef, 1))"
   ]
  },
  {
   "cell_type": "code",
   "execution_count": 11,
   "metadata": {
    "collapsed": false,
    "jupyter": {
     "outputs_hidden": false
    }
   },
   "outputs": [
    {
     "name": "stdout",
     "output_type": "stream",
     "text": [
      "1,000,000+ : 15.726534296028879\n",
      "100,000+ : 11.552346570397113\n",
      "10,000,000+ : 10.548285198555957\n",
      "10,000+ : 10.198555956678701\n",
      "1,000+ : 8.393501805054152\n",
      "100+ : 6.915613718411552\n",
      "5,000,000+ : 6.825361010830325\n",
      "500,000+ : 5.561823104693141\n",
      "50,000+ : 4.7721119133574\n",
      "5,000+ : 4.512635379061372\n",
      "10+ : 3.5424187725631766\n",
      "500+ : 3.2490974729241873\n",
      "50,000,000+ : 2.3014440433213\n",
      "100,000,000+ : 2.1322202166064983\n",
      "50+ : 1.917870036101083\n",
      "5+ : 0.78971119133574\n",
      "1+ : 0.5076714801444043\n",
      "500,000,000+ : 0.2707581227436823\n",
      "1,000,000,000+ : 0.22563176895306858\n",
      "0+ : 0.04512635379061372\n",
      "0 : 0.01128158844765343\n",
      "None\n"
     ]
    }
   ],
   "source": [
    "# To print out the percentage of apps in each download category of the Play Store in descending order\n",
    "\n",
    "print(display_table(play_scef,5))"
   ]
  },
  {
   "cell_type": "code",
   "execution_count": 12,
   "metadata": {
    "collapsed": false,
    "jupyter": {
     "outputs_hidden": false
    }
   },
   "outputs": [
    {
     "name": "stdout",
     "output_type": "stream",
     "text": [
      "Number of categories : 33\n",
      "\n",
      "\n",
      "COMMUNICATION : 38456119.167247385\n",
      "VIDEO_PLAYERS : 24727872.452830188\n",
      "SOCIAL : 23253652.127118643\n",
      "PHOTOGRAPHY : 17840110.40229885\n",
      "PRODUCTIVITY : 16787331.344927534\n",
      "GAME : 15588015.603248259\n",
      "TRAVEL_AND_LOCAL : 13984077.710144928\n",
      "ENTERTAINMENT : 11640705.88235294\n",
      "TOOLS : 10801391.298666667\n",
      "NEWS_AND_MAGAZINES : 9549178.467741935\n",
      "BOOKS_AND_REFERENCE : 8767811.894736841\n",
      "SHOPPING : 7036877.311557789\n",
      "PERSONALIZATION : 5201482.6122448975\n",
      "WEATHER : 5074486.197183099\n",
      "HEALTH_AND_FITNESS : 4188821.9853479853\n",
      "MAPS_AND_NAVIGATION : 4056941.7741935486\n",
      "FAMILY : 3695641.8198090694\n",
      "SPORTS : 3638640.1428571427\n",
      "ART_AND_DESIGN : 1986335.0877192982\n",
      "FOOD_AND_DRINK : 1924897.7363636363\n",
      "EDUCATION : 1833495.145631068\n",
      "BUSINESS : 1712290.1474201474\n",
      "LIFESTYLE : 1437816.2687861272\n",
      "FINANCE : 1387692.475609756\n",
      "HOUSE_AND_HOME : 1331540.5616438356\n",
      "DATING : 854028.8303030303\n",
      "COMICS : 817657.2727272727\n",
      "AUTO_AND_VEHICLES : 647317.8170731707\n",
      "LIBRARIES_AND_DEMO : 638503.734939759\n",
      "PARENTING : 542603.6206896552\n",
      "BEAUTY : 513151.88679245283\n",
      "EVENTS : 253542.22222222222\n",
      "MEDICAL : 120550.61980830671\n"
     ]
    }
   ],
   "source": [
    "# To find the average number of app installs in each category of the Play Store\n",
    "\n",
    "# First, to get a frequency table of the categories\n",
    "\n",
    "def freq_table_norm(dataset, index):\n",
    "    freq_table={}\n",
    "    \n",
    "    for row in dataset:\n",
    "        value = row[index]\n",
    "        if value in freq_table:\n",
    "            freq_table[value]+=1\n",
    "        elif value not in freq_table:\n",
    "            freq_table[value]=1\n",
    "        \n",
    "    return freq_table\n",
    "\n",
    "c_play = freq_table_norm(play_scef, 1)\n",
    "print(\"Number of categories :\", len(c_play))\n",
    "print(\"\\n\")\n",
    "\n",
    "# Second, to create a dictionary with average app installs of each category \n",
    "\n",
    "avg_install_dict={}\n",
    "\n",
    "for category in c_play:\n",
    "    total=0\n",
    "    len_category=0\n",
    "    for app in play_scef:\n",
    "        app_category=app[1]\n",
    "        if app_category == category:\n",
    "            n_installs = app[5]\n",
    "            n_installs = n_installs.replace(\",\",\"\")\n",
    "            n_installs = n_installs.replace(\"+\",\"\")\n",
    "            n_installs = float(n_installs)\n",
    "            total += float(n_installs)\n",
    "            len_category+= 1\n",
    "    avg_n_installs = total/len_category\n",
    "    avg_install_dict[category]= avg_n_installs\n",
    "      \n",
    "    \n",
    "#print(avg_install_dict)\n",
    "#print(\"\\n\")\n",
    "\n",
    "# Third, to print the categories in descending order of average app installs \n",
    "\n",
    "def display_table_dict(dict):\n",
    "    table_display = []\n",
    "    for key in dict:\n",
    "        key_val_as_tuple = (dict[key], key)\n",
    "        table_display.append(key_val_as_tuple)\n",
    "\n",
    "    table_sorted = sorted(table_display, reverse = True)\n",
    "    for entry in table_sorted:\n",
    "        print(entry[1], ':', entry[0])\n",
    "        \n",
    "display_table_dict(avg_install_dict)"
   ]
  }
 ],
 "metadata": {
  "kernelspec": {
   "display_name": "Python 3",
   "language": "python",
   "name": "python3"
  },
  "language_info": {
   "codemirror_mode": {
    "name": "ipython",
    "version": 3
   },
   "file_extension": ".py",
   "mimetype": "text/x-python",
   "name": "python",
   "nbconvert_exporter": "python",
   "pygments_lexer": "ipython3",
   "version": "3.7.4"
  }
 },
 "nbformat": 4,
 "nbformat_minor": 4
}
